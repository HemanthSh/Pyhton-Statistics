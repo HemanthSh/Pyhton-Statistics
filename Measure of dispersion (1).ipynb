{
 "cells": [
  {
   "cell_type": "markdown",
   "id": "e3004a97-0277-49f3-a70b-011281cf204d",
   "metadata": {},
   "source": [
    "### Measure of Dispersion\n",
    "#### Variance and dispersion"
   ]
  },
  {
   "cell_type": "code",
   "execution_count": 3,
   "id": "1599ba88-6d4a-4561-99e1-b3288b008e5c",
   "metadata": {},
   "outputs": [],
   "source": [
    "import numpy as np"
   ]
  },
  {
   "cell_type": "code",
   "execution_count": 4,
   "id": "a30662db-612e-48eb-8282-99ded89c04d3",
   "metadata": {},
   "outputs": [],
   "source": [
    "ages = [12,23,23,34,45,56,67,78,89]"
   ]
  },
  {
   "cell_type": "code",
   "execution_count": 5,
   "id": "5ce40285-0068-46ca-be20-ef1ac3b2a26e",
   "metadata": {},
   "outputs": [],
   "source": [
    "mean = np.mean(ages)"
   ]
  },
  {
   "cell_type": "code",
   "execution_count": 6,
   "id": "fa9458ed-9600-49af-8582-039b0f25796d",
   "metadata": {},
   "outputs": [
    {
     "data": {
      "text/plain": [
       "47.44444444444444"
      ]
     },
     "execution_count": 6,
     "metadata": {},
     "output_type": "execute_result"
    }
   ],
   "source": [
    "mean"
   ]
  },
  {
   "cell_type": "code",
   "execution_count": 7,
   "id": "f69102ae-a6c0-42eb-bcce-105cd748564d",
   "metadata": {},
   "outputs": [
    {
     "data": {
      "text/plain": [
       "639.358024691358"
      ]
     },
     "execution_count": 7,
     "metadata": {},
     "output_type": "execute_result"
    }
   ],
   "source": [
    "var = np.var(ages)\n",
    "var"
   ]
  },
  {
   "cell_type": "code",
   "execution_count": 9,
   "id": "a8b409bc-37dc-44b3-bd65-c67807acb461",
   "metadata": {},
   "outputs": [
    {
     "data": {
      "text/plain": [
       "25.285529946816578"
      ]
     },
     "execution_count": 9,
     "metadata": {},
     "output_type": "execute_result"
    }
   ],
   "source": [
    "std = np.std(ages)\n",
    "std"
   ]
  },
  {
   "cell_type": "code",
   "execution_count": 10,
   "id": "1d20eb2a-4113-41dc-b0a2-d9d32a94a21e",
   "metadata": {},
   "outputs": [],
   "source": [
    "import pandas as pd"
   ]
  },
  {
   "cell_type": "code",
   "execution_count": 11,
   "id": "171262e9-75a2-487f-ab4f-8487ac20a8b3",
   "metadata": {},
   "outputs": [],
   "source": [
    "data = [[10,12,13],[21,23,25],[31,33,35]]"
   ]
  },
  {
   "cell_type": "code",
   "execution_count": 14,
   "id": "74d702c2-752d-43e0-9e21-ce15df0ee40e",
   "metadata": {},
   "outputs": [
    {
     "data": {
      "text/plain": [
       "[[10, 12, 13], [21, 23, 25], [31, 33, 35]]"
      ]
     },
     "execution_count": 14,
     "metadata": {},
     "output_type": "execute_result"
    }
   ],
   "source": [
    "data"
   ]
  },
  {
   "cell_type": "code",
   "execution_count": 15,
   "id": "33c47822-da91-4883-92fa-d715e522aa23",
   "metadata": {},
   "outputs": [],
   "source": [
    "df = pd.DataFrame(data,columns =(\"A\",\"B\",\"C\"))"
   ]
  },
  {
   "cell_type": "code",
   "execution_count": 16,
   "id": "1f3c2c1a-a557-4767-a7aa-9a9a4667bedf",
   "metadata": {},
   "outputs": [
    {
     "data": {
      "text/html": [
       "<div>\n",
       "<style scoped>\n",
       "    .dataframe tbody tr th:only-of-type {\n",
       "        vertical-align: middle;\n",
       "    }\n",
       "\n",
       "    .dataframe tbody tr th {\n",
       "        vertical-align: top;\n",
       "    }\n",
       "\n",
       "    .dataframe thead th {\n",
       "        text-align: right;\n",
       "    }\n",
       "</style>\n",
       "<table border=\"1\" class=\"dataframe\">\n",
       "  <thead>\n",
       "    <tr style=\"text-align: right;\">\n",
       "      <th></th>\n",
       "      <th>A</th>\n",
       "      <th>B</th>\n",
       "      <th>C</th>\n",
       "    </tr>\n",
       "  </thead>\n",
       "  <tbody>\n",
       "    <tr>\n",
       "      <th>0</th>\n",
       "      <td>10</td>\n",
       "      <td>12</td>\n",
       "      <td>13</td>\n",
       "    </tr>\n",
       "    <tr>\n",
       "      <th>1</th>\n",
       "      <td>21</td>\n",
       "      <td>23</td>\n",
       "      <td>25</td>\n",
       "    </tr>\n",
       "    <tr>\n",
       "      <th>2</th>\n",
       "      <td>31</td>\n",
       "      <td>33</td>\n",
       "      <td>35</td>\n",
       "    </tr>\n",
       "  </tbody>\n",
       "</table>\n",
       "</div>"
      ],
      "text/plain": [
       "    A   B   C\n",
       "0  10  12  13\n",
       "1  21  23  25\n",
       "2  31  33  35"
      ]
     },
     "execution_count": 16,
     "metadata": {},
     "output_type": "execute_result"
    }
   ],
   "source": [
    "df"
   ]
  },
  {
   "cell_type": "code",
   "execution_count": 22,
   "id": "b3f763c6-a8ae-47d8-b761-865c0329edd8",
   "metadata": {},
   "outputs": [
    {
     "data": {
      "text/plain": [
       "0    2.333333\n",
       "1    4.000000\n",
       "2    4.000000\n",
       "dtype: float64"
      ]
     },
     "execution_count": 22,
     "metadata": {},
     "output_type": "execute_result"
    }
   ],
   "source": [
    "### Row wise\n",
    "df.var(axis=1)"
   ]
  },
  {
   "cell_type": "code",
   "execution_count": 23,
   "id": "471538be-e823-48ca-b852-524584652d65",
   "metadata": {},
   "outputs": [
    {
     "data": {
      "text/plain": [
       "A    110.333333\n",
       "B    110.333333\n",
       "C    121.333333\n",
       "dtype: float64"
      ]
     },
     "execution_count": 23,
     "metadata": {},
     "output_type": "execute_result"
    }
   ],
   "source": [
    "### Column wise\n",
    "df.var(axis=0)"
   ]
  },
  {
   "cell_type": "code",
   "execution_count": 24,
   "id": "2962881c-3514-4cd2-8745-fa0a8bbb446a",
   "metadata": {},
   "outputs": [
    {
     "data": {
      "text/plain": [
       "A    110.333333\n",
       "B    110.333333\n",
       "C    121.333333\n",
       "dtype: float64"
      ]
     },
     "execution_count": 24,
     "metadata": {},
     "output_type": "execute_result"
    }
   ],
   "source": [
    "df.var()"
   ]
  },
  {
   "cell_type": "code",
   "execution_count": null,
   "id": "772d5395-a21b-4efe-bc5a-cc09f1845a77",
   "metadata": {},
   "outputs": [],
   "source": []
  }
 ],
 "metadata": {
  "kernelspec": {
   "display_name": "Python 3 (ipykernel)",
   "language": "python",
   "name": "python3"
  },
  "language_info": {
   "codemirror_mode": {
    "name": "ipython",
    "version": 3
   },
   "file_extension": ".py",
   "mimetype": "text/x-python",
   "name": "python",
   "nbconvert_exporter": "python",
   "pygments_lexer": "ipython3",
   "version": "3.10.8"
  }
 },
 "nbformat": 4,
 "nbformat_minor": 5
}
